{
 "cells": [
  {
   "cell_type": "markdown",
   "id": "9087cd08-ff3c-49a7-8de8-411e2c8664a1",
   "metadata": {},
   "source": [
    "## Project Setup"
   ]
  },
  {
   "cell_type": "code",
   "execution_count": 1,
   "id": "f09336e6-b317-4242-ad59-6a3e53db9039",
   "metadata": {},
   "outputs": [],
   "source": [
    "#pip install --upgrade google-cloud-pubsub"
   ]
  },
  {
   "cell_type": "code",
   "execution_count": 2,
   "id": "47c877b0-9c18-4a15-ad23-a9fb2aac16c5",
   "metadata": {},
   "outputs": [],
   "source": [
    "import os\n",
    "import ast\n",
    "import json"
   ]
  },
  {
   "cell_type": "code",
   "execution_count": 3,
   "id": "e377fce8-a4e7-4dc0-ace4-a563a9e397c9",
   "metadata": {},
   "outputs": [],
   "source": [
    "import random\n",
    "import time, datetime"
   ]
  },
  {
   "cell_type": "code",
   "execution_count": 4,
   "id": "ac1069be-4aaf-4724-9811-8f4925eddbc3",
   "metadata": {},
   "outputs": [],
   "source": [
    "#pip install essential_generators"
   ]
  },
  {
   "cell_type": "code",
   "execution_count": 5,
   "id": "a44cd33a-7feb-4c1c-be11-1cb174dc6f84",
   "metadata": {},
   "outputs": [],
   "source": [
    "from essential_generators import DocumentGenerator"
   ]
  },
  {
   "cell_type": "code",
   "execution_count": 6,
   "id": "033bf5b1-3bd7-4b8d-8a1b-0a9855a879e9",
   "metadata": {},
   "outputs": [],
   "source": [
    "gen = DocumentGenerator()"
   ]
  },
  {
   "cell_type": "code",
   "execution_count": 7,
   "id": "81f438e0-3e6e-43db-9721-0cb5059fc148",
   "metadata": {},
   "outputs": [],
   "source": [
    "from google.api_core.exceptions import AlreadyExists\n",
    "from google.cloud.pubsub import SchemaServiceClient\n",
    "from google.pubsub_v1.types import Schema\n",
    "from google.cloud import pubsub_v1"
   ]
  },
  {
   "cell_type": "code",
   "execution_count": 8,
   "id": "6f743c86-7bcd-464e-b669-272143cc9eb6",
   "metadata": {},
   "outputs": [],
   "source": [
    "publisher = pubsub_v1.PublisherClient()"
   ]
  },
  {
   "cell_type": "code",
   "execution_count": 9,
   "id": "21485195-8929-491c-adff-fdfb98ced68d",
   "metadata": {},
   "outputs": [],
   "source": [
    "project_id = \"curious-skyline-360213\""
   ]
  },
  {
   "cell_type": "code",
   "execution_count": 10,
   "id": "40f17d60-0990-44c4-8d8c-c4a42f762967",
   "metadata": {},
   "outputs": [],
   "source": [
    "from google.cloud import bigquery\n",
    "client = bigquery.Client(location=\"us-west1\", project=project_id)\n",
    "\n",
    "import pandas as pd"
   ]
  },
  {
   "cell_type": "markdown",
   "id": "189e4b9b-ac32-466f-9a28-c8d149fef88a",
   "metadata": {},
   "source": [
    "## Pub/Sub Schemas"
   ]
  },
  {
   "cell_type": "markdown",
   "id": "5b1cb034-c13a-4da7-8b28-1f707469fd8b",
   "metadata": {},
   "source": [
    "### List existing schemas"
   ]
  },
  {
   "cell_type": "code",
   "execution_count": 520,
   "id": "b48027f5-30e9-4eee-ab1f-c6c60e4ba622",
   "metadata": {},
   "outputs": [
    {
     "name": "stdout",
     "output_type": "stream",
     "text": [
      "name: \"projects/curious-skyline-360213/schemas/CX_schema\"\n",
      "type_: AVRO\n",
      "\n",
      "Listed schemas.\n"
     ]
    }
   ],
   "source": [
    "project_path = f\"projects/{project_id}\"\n",
    "schema_client = SchemaServiceClient()\n",
    "\n",
    "for schema in schema_client.list_schemas(request={\"parent\": project_path}):\n",
    "    print(schema)"
   ]
  },
  {
   "cell_type": "markdown",
   "id": "23dffb6b-d1fc-4b33-a19e-c9c597846f13",
   "metadata": {},
   "source": [
    "https://cloud.google.com/pubsub/docs/schemas#python"
   ]
  },
  {
   "cell_type": "markdown",
   "id": "c99597a6-757e-4209-9545-286a8bbf761f",
   "metadata": {},
   "source": [
    "### Create new schema"
   ]
  },
  {
   "cell_type": "code",
   "execution_count": 457,
   "id": "e278899a-e186-400d-af0f-56f023c4d4cb",
   "metadata": {
    "tags": []
   },
   "outputs": [],
   "source": [
    "schema_id = \"CX_schema\"\n",
    "\n",
    "schema_dict ={\n",
    " \"type\" : \"record\",\n",
    " \"name\" : \"Avro\",\n",
    "    \n",
    " \"fields\" : [\n",
    "   {\n",
    "     \"name\" : \"Market\",\n",
    "     \"type\" : \"string\"\n",
    "   },\n",
    "   {\n",
    "     \"name\" : \"Ministry\",\n",
    "     \"type\" : \"string\"\n",
    "   },\n",
    "   {\n",
    "     \"name\" : \"Department\",\n",
    "     \"type\" : \"int\"\n",
    "   },\n",
    "   {\n",
    "     \"name\" : \"Type_Of_Visit\",\n",
    "     \"type\" : \"string\"\n",
    "   },\n",
    "   {\n",
    "     \"name\" : \"Survey_Completion_Date\",\n",
    "     \"type\" : \"string\"\n",
    "   },\n",
    "   {\n",
    "     \"name\" : \"Survey_Type\",\n",
    "     \"type\" : \"string\"\n",
    "   },\n",
    "   {\n",
    "     \"name\" : \"Survey_Project\",\n",
    "     \"type\" : \"int\"\n",
    "   },\n",
    "   {\n",
    "     \"name\" : \"Survey_ID\",\n",
    "     \"type\" : \"int\"\n",
    "   },\n",
    "   {\n",
    "     \"name\" : \"Gender\",\n",
    "     \"type\" : \"string\"\n",
    "   },\n",
    "   {\n",
    "     \"name\" : \"Age_Group\",\n",
    "     \"type\" : \"string\"\n",
    "   },\n",
    "   {\n",
    "     \"name\" : \"LTR_Facility\",\n",
    "     \"type\" : \"int\"\n",
    "   },\n",
    "   {\n",
    "     \"name\" : \"LTR_Doctor\",\n",
    "     \"type\" : \"int\"\n",
    "   },\n",
    "   {\n",
    "     \"name\" : \"Anything_Outstanding\",\n",
    "     \"type\" : \"string\"\n",
    "   },\n",
    "   {\n",
    "     \"name\" : \"Improve_Stay\",\n",
    "     \"type\" : \"string\"\n",
    "   }\n",
    "\n",
    " ]\n",
    "}"
   ]
  },
  {
   "cell_type": "code",
   "execution_count": 205,
   "id": "93846d0e-7f34-4026-97b2-df112b5cb018",
   "metadata": {},
   "outputs": [
    {
     "name": "stdout",
     "output_type": "stream",
     "text": [
      "CX_schema already exists.\n"
     ]
    }
   ],
   "source": [
    "project_path = f\"projects/{project_id}\"\n",
    "\n",
    "schema_client = SchemaServiceClient()\n",
    "schema_path = schema_client.schema_path(project_id, schema_id)\n",
    "\n",
    "schema = Schema(name=schema_path, type_=Schema.Type.AVRO, definition=json.dumps(schema_dict))\n",
    "\n",
    "try:\n",
    "    result = schema_client.create_schema(\n",
    "        request={\"parent\": project_path, \"schema\": schema, \"schema_id\": schema_id}\n",
    "    )\n",
    "    print(f\"Created a schema using an Avro schema file:\\n{result}\")\n",
    "except AlreadyExists:\n",
    "    print(f\"{schema_id} already exists.\")"
   ]
  },
  {
   "cell_type": "markdown",
   "id": "de5417d2-80b2-4c62-87df-6593f5e1a84a",
   "metadata": {},
   "source": [
    "### Existing schema details"
   ]
  },
  {
   "cell_type": "code",
   "execution_count": 519,
   "id": "9046e1bd-264d-4883-8705-b6832565ae43",
   "metadata": {},
   "outputs": [
    {
     "name": "stdout",
     "output_type": "stream",
     "text": [
      "Got a schema:\n",
      "name: \"projects/curious-skyline-360213/schemas/CX_schema\"\n",
      "type_: AVRO\n",
      "definition: \"{\\\"type\\\": \\\"record\\\", \\\"name\\\": \\\"Avro\\\", \\\"fields\\\": [{\\\"name\\\": \\\"Market\\\", \\\"type\\\": \\\"string\\\"}, {\\\"name\\\": \\\"Ministry\\\", \\\"type\\\": \\\"string\\\"}, {\\\"name\\\": \\\"Department\\\", \\\"type\\\": \\\"int\\\"}, {\\\"name\\\": \\\"Type_Of_Visit\\\", \\\"type\\\": \\\"string\\\"}, {\\\"name\\\": \\\"Survey_Completion_Date\\\", \\\"type\\\": \\\"string\\\"}, {\\\"name\\\": \\\"Survey_Type\\\", \\\"type\\\": \\\"string\\\"}, {\\\"name\\\": \\\"Survey_Project\\\", \\\"type\\\": \\\"int\\\"}, {\\\"name\\\": \\\"Survey_ID\\\", \\\"type\\\": \\\"int\\\"}, {\\\"name\\\": \\\"Gender\\\", \\\"type\\\": \\\"string\\\"}, {\\\"name\\\": \\\"Age_Group\\\", \\\"type\\\": \\\"string\\\"}, {\\\"name\\\": \\\"LTR_Facility\\\", \\\"type\\\": \\\"int\\\"}, {\\\"name\\\": \\\"LTR_Doctor\\\", \\\"type\\\": \\\"int\\\"}, {\\\"name\\\": \\\"Anything_Outstanding\\\", \\\"type\\\": \\\"string\\\"}, {\\\"name\\\": \\\"Improve_Stay\\\", \\\"type\\\": \\\"string\\\"}]}\"\n",
      "\n"
     ]
    }
   ],
   "source": [
    "schema_client = SchemaServiceClient()\n",
    "schema_path = schema_client.schema_path(project_id, schema_id)\n",
    "\n",
    "try:\n",
    "    result = schema_client.get_schema(request={\"name\": schema_path})\n",
    "    print(f\"Got a schema:\\n{result}\")\n",
    "except NotFound:\n",
    "    print(f\"{schema_id} not found.\")"
   ]
  },
  {
   "cell_type": "markdown",
   "id": "38c2a41b-e97c-45dc-b7b1-f170648111f0",
   "metadata": {},
   "source": [
    "### Delete schema"
   ]
  },
  {
   "cell_type": "code",
   "execution_count": null,
   "id": "69c389b7-03ac-43fd-8f0f-c6613aac34ee",
   "metadata": {},
   "outputs": [],
   "source": [
    "# schema_client = SchemaServiceClient()\n",
    "# schema_path = schema_client.schema_path(project_id, schema_id)\n",
    "\n",
    "# try:\n",
    "#     schema_client.delete_schema(request={\"name\": schema_path})\n",
    "#     print(f\"Deleted a schema:\\n{schema_path}\")\n",
    "# except NotFound:\n",
    "#     print(f\"{schema_id} not found.\")"
   ]
  },
  {
   "cell_type": "markdown",
   "id": "2f40db1b-3d52-47e9-87cc-902fffc64559",
   "metadata": {},
   "source": [
    "## BQ Tables"
   ]
  },
  {
   "cell_type": "markdown",
   "id": "24a29226-4fb1-49b9-8ae6-89fbf1b16075",
   "metadata": {
    "tags": []
   },
   "source": [
    "### Create BQ table from schema with Pub/Sub metadata"
   ]
  },
  {
   "cell_type": "markdown",
   "id": "f15d7a02-a6c2-4ee1-ba2b-cdc8e04c327f",
   "metadata": {},
   "source": [
    "Create a BQ table following schema crated in previous section.\n",
    "Table contains all additional Pub/Sub metadata columns."
   ]
  },
  {
   "cell_type": "code",
   "execution_count": 532,
   "id": "99c4b884-0834-4533-8165-5ffdbfc815f3",
   "metadata": {},
   "outputs": [],
   "source": [
    "#table_name_ = 'Stream_test_schema_attributes'\n",
    "table_name_ = \"CX_Stream_hour_partition\""
   ]
  },
  {
   "cell_type": "code",
   "execution_count": 533,
   "id": "17256658-7815-49b3-adbd-45bd4df69f9a",
   "metadata": {},
   "outputs": [],
   "source": [
    "def get_column_names_from_schema(schema_example):\n",
    "    \n",
    "    columns = [column['name'] for column in schema_example['fields']]\n",
    "    return columns\n",
    "\n",
    "def get_type_from_schema(schema_example):\n",
    "    types = [column['type'] for column in schema_example['fields']]\n",
    "    types = [type_.replace(\"int\", \"INTEGER\") for type_ in types] \n",
    "    return types\n"
   ]
  },
  {
   "cell_type": "code",
   "execution_count": 458,
   "id": "a08767c7-3fbb-49ae-b3ce-d2b21e5dc7f5",
   "metadata": {},
   "outputs": [],
   "source": [
    "# df_ = pd.DataFrame(columns=get_column_names_from_schema(schema_dict) + \n",
    "#                    ['subscription_name', 'message_id', 'publish_time', 'data', 'attributes'])"
   ]
  },
  {
   "cell_type": "code",
   "execution_count": 534,
   "id": "e7228861-480c-4a40-8d61-8defdcbaedd3",
   "metadata": {},
   "outputs": [],
   "source": [
    "bq_schema = []\n",
    "for col_, type_ in zip(get_column_names_from_schema(schema_dict), get_type_from_schema(schema_dict)):\n",
    "    bq_schema.append(bigquery.SchemaField(col_, type_))\n",
    "    \n",
    "    \n",
    "#https://cloud.google.com/pubsub/docs/bigquery    \n",
    "bq_schema.append(bigquery.SchemaField('subscription_name', 'string'))\n",
    "bq_schema.append(bigquery.SchemaField('message_id', 'string'))\n",
    "bq_schema.append(bigquery.SchemaField('publish_time', 'timestamp'))\n",
    "bq_schema.append(bigquery.SchemaField('data', 'string'))\n",
    "bq_schema.append(bigquery.SchemaField('attributes', 'string'))"
   ]
  },
  {
   "cell_type": "code",
   "execution_count": 535,
   "id": "630e9498-676f-4eef-8963-9a206fecb728",
   "metadata": {},
   "outputs": [
    {
     "data": {
      "text/plain": [
       "[SchemaField('Market', 'STRING', 'NULLABLE', None, (), None),\n",
       " SchemaField('Ministry', 'STRING', 'NULLABLE', None, (), None),\n",
       " SchemaField('Department', 'INTEGER', 'NULLABLE', None, (), None),\n",
       " SchemaField('Type_Of_Visit', 'STRING', 'NULLABLE', None, (), None),\n",
       " SchemaField('Survey_Completion_Date', 'STRING', 'NULLABLE', None, (), None),\n",
       " SchemaField('Survey_Type', 'STRING', 'NULLABLE', None, (), None),\n",
       " SchemaField('Survey_Project', 'INTEGER', 'NULLABLE', None, (), None),\n",
       " SchemaField('Survey_ID', 'INTEGER', 'NULLABLE', None, (), None),\n",
       " SchemaField('Gender', 'STRING', 'NULLABLE', None, (), None),\n",
       " SchemaField('Age_Group', 'STRING', 'NULLABLE', None, (), None),\n",
       " SchemaField('LTR_Facility', 'INTEGER', 'NULLABLE', None, (), None),\n",
       " SchemaField('LTR_Doctor', 'INTEGER', 'NULLABLE', None, (), None),\n",
       " SchemaField('Anything_Outstanding', 'STRING', 'NULLABLE', None, (), None),\n",
       " SchemaField('Improve_Stay', 'STRING', 'NULLABLE', None, (), None),\n",
       " SchemaField('subscription_name', 'STRING', 'NULLABLE', None, (), None),\n",
       " SchemaField('message_id', 'STRING', 'NULLABLE', None, (), None),\n",
       " SchemaField('publish_time', 'TIMESTAMP', 'NULLABLE', None, (), None),\n",
       " SchemaField('data', 'STRING', 'NULLABLE', None, (), None),\n",
       " SchemaField('attributes', 'STRING', 'NULLABLE', None, (), None)]"
      ]
     },
     "execution_count": 535,
     "metadata": {},
     "output_type": "execute_result"
    }
   ],
   "source": [
    "bq_schema"
   ]
  },
  {
   "cell_type": "code",
   "execution_count": 538,
   "id": "97db31fe-28c6-4fab-b352-fe565edb3c51",
   "metadata": {},
   "outputs": [],
   "source": [
    "table_name = f'curious-skyline-360213.CX.{table_name_}'\n",
    "\n",
    "table = bigquery.Table(table_name, schema=bq_schema)\n",
    "table.time_partitioning = bigquery.TimePartitioning(\n",
    "    type_=bigquery.TimePartitioningType.HOUR,\n",
    "    field=\"publish_time\",  # name of column to use for partitioning\n",
    ") \n",
    "\n",
    "table = client.create_table(table)"
   ]
  },
  {
   "cell_type": "code",
   "execution_count": 211,
   "id": "7dea181d-ed6a-4cc0-a31c-523b297869b8",
   "metadata": {},
   "outputs": [],
   "source": [
    "# table_name = f'curious-skyline-360213.CX.{table_name_}'\n",
    "\n",
    "# # Configure the load job\n",
    "# job_config = bigquery.LoadJobConfig(\n",
    "#     schema=bq_schema\n",
    "# )\n",
    "\n",
    "# try:       \n",
    "#     client.create_table(table_name, exists_ok=False)\n",
    "    \n",
    "#     client.load_table_from_dataframe(dataframe=df_, destination=table_name, job_config=job_config)\n",
    "# except AlreadyExists:\n",
    "#     print(f\"{table_name} already exists.\")"
   ]
  },
  {
   "cell_type": "markdown",
   "id": "0dd8aa18-da41-4885-9d9b-7abc6ada58bf",
   "metadata": {},
   "source": [
    "### Check dataset schema"
   ]
  },
  {
   "cell_type": "code",
   "execution_count": 541,
   "id": "8a3a6b66-1b27-44f1-8669-90aa1cda469e",
   "metadata": {},
   "outputs": [],
   "source": [
    "query =\"\"\"\n",
    "SELECT \n",
    "table_name, \n",
    "column_name, \n",
    "data_type\n",
    "\n",
    "FROM `curious-skyline-360213.CX.INFORMATION_SCHEMA.COLUMNS`\n",
    "\n",
    "WHERE table_name  = 'CX_data_conform_hourpartition'\n",
    "\n",
    "\"\"\"\n",
    "query_job = client.query(query)\n",
    "df_project = query_job.to_dataframe()"
   ]
  },
  {
   "cell_type": "code",
   "execution_count": 542,
   "id": "47524c09-e119-4184-9ca1-0dd12c464436",
   "metadata": {},
   "outputs": [
    {
     "data": {
      "text/html": [
       "<div>\n",
       "<style scoped>\n",
       "    .dataframe tbody tr th:only-of-type {\n",
       "        vertical-align: middle;\n",
       "    }\n",
       "\n",
       "    .dataframe tbody tr th {\n",
       "        vertical-align: top;\n",
       "    }\n",
       "\n",
       "    .dataframe thead th {\n",
       "        text-align: right;\n",
       "    }\n",
       "</style>\n",
       "<table border=\"1\" class=\"dataframe\">\n",
       "  <thead>\n",
       "    <tr style=\"text-align: right;\">\n",
       "      <th></th>\n",
       "      <th>table_name</th>\n",
       "      <th>column_name</th>\n",
       "      <th>data_type</th>\n",
       "    </tr>\n",
       "  </thead>\n",
       "  <tbody>\n",
       "    <tr>\n",
       "      <th>0</th>\n",
       "      <td>CX_data_conform_hourpartition</td>\n",
       "      <td>Market</td>\n",
       "      <td>STRING</td>\n",
       "    </tr>\n",
       "    <tr>\n",
       "      <th>1</th>\n",
       "      <td>CX_data_conform_hourpartition</td>\n",
       "      <td>Ministry</td>\n",
       "      <td>STRING</td>\n",
       "    </tr>\n",
       "    <tr>\n",
       "      <th>2</th>\n",
       "      <td>CX_data_conform_hourpartition</td>\n",
       "      <td>Department</td>\n",
       "      <td>INT64</td>\n",
       "    </tr>\n",
       "    <tr>\n",
       "      <th>3</th>\n",
       "      <td>CX_data_conform_hourpartition</td>\n",
       "      <td>Type_Of_Visit</td>\n",
       "      <td>STRING</td>\n",
       "    </tr>\n",
       "    <tr>\n",
       "      <th>4</th>\n",
       "      <td>CX_data_conform_hourpartition</td>\n",
       "      <td>Survey_Completion_Date</td>\n",
       "      <td>STRING</td>\n",
       "    </tr>\n",
       "    <tr>\n",
       "      <th>5</th>\n",
       "      <td>CX_data_conform_hourpartition</td>\n",
       "      <td>Survey_Type</td>\n",
       "      <td>STRING</td>\n",
       "    </tr>\n",
       "    <tr>\n",
       "      <th>6</th>\n",
       "      <td>CX_data_conform_hourpartition</td>\n",
       "      <td>Survey_Project</td>\n",
       "      <td>INT64</td>\n",
       "    </tr>\n",
       "    <tr>\n",
       "      <th>7</th>\n",
       "      <td>CX_data_conform_hourpartition</td>\n",
       "      <td>Survey_ID</td>\n",
       "      <td>INT64</td>\n",
       "    </tr>\n",
       "    <tr>\n",
       "      <th>8</th>\n",
       "      <td>CX_data_conform_hourpartition</td>\n",
       "      <td>Gender</td>\n",
       "      <td>STRING</td>\n",
       "    </tr>\n",
       "    <tr>\n",
       "      <th>9</th>\n",
       "      <td>CX_data_conform_hourpartition</td>\n",
       "      <td>Age_Group</td>\n",
       "      <td>STRING</td>\n",
       "    </tr>\n",
       "    <tr>\n",
       "      <th>10</th>\n",
       "      <td>CX_data_conform_hourpartition</td>\n",
       "      <td>LTR_Facility</td>\n",
       "      <td>INT64</td>\n",
       "    </tr>\n",
       "    <tr>\n",
       "      <th>11</th>\n",
       "      <td>CX_data_conform_hourpartition</td>\n",
       "      <td>LTR_Doctor</td>\n",
       "      <td>INT64</td>\n",
       "    </tr>\n",
       "    <tr>\n",
       "      <th>12</th>\n",
       "      <td>CX_data_conform_hourpartition</td>\n",
       "      <td>Anything_Outstanding</td>\n",
       "      <td>STRING</td>\n",
       "    </tr>\n",
       "    <tr>\n",
       "      <th>13</th>\n",
       "      <td>CX_data_conform_hourpartition</td>\n",
       "      <td>Improve_Stay</td>\n",
       "      <td>STRING</td>\n",
       "    </tr>\n",
       "    <tr>\n",
       "      <th>14</th>\n",
       "      <td>CX_data_conform_hourpartition</td>\n",
       "      <td>publish_time</td>\n",
       "      <td>TIMESTAMP</td>\n",
       "    </tr>\n",
       "  </tbody>\n",
       "</table>\n",
       "</div>"
      ],
      "text/plain": [
       "                       table_name             column_name  data_type\n",
       "0   CX_data_conform_hourpartition                  Market     STRING\n",
       "1   CX_data_conform_hourpartition                Ministry     STRING\n",
       "2   CX_data_conform_hourpartition              Department      INT64\n",
       "3   CX_data_conform_hourpartition           Type_Of_Visit     STRING\n",
       "4   CX_data_conform_hourpartition  Survey_Completion_Date     STRING\n",
       "5   CX_data_conform_hourpartition             Survey_Type     STRING\n",
       "6   CX_data_conform_hourpartition          Survey_Project      INT64\n",
       "7   CX_data_conform_hourpartition               Survey_ID      INT64\n",
       "8   CX_data_conform_hourpartition                  Gender     STRING\n",
       "9   CX_data_conform_hourpartition               Age_Group     STRING\n",
       "10  CX_data_conform_hourpartition            LTR_Facility      INT64\n",
       "11  CX_data_conform_hourpartition              LTR_Doctor      INT64\n",
       "12  CX_data_conform_hourpartition    Anything_Outstanding     STRING\n",
       "13  CX_data_conform_hourpartition            Improve_Stay     STRING\n",
       "14  CX_data_conform_hourpartition            publish_time  TIMESTAMP"
      ]
     },
     "execution_count": 542,
     "metadata": {},
     "output_type": "execute_result"
    }
   ],
   "source": [
    "df_project"
   ]
  },
  {
   "cell_type": "markdown",
   "id": "593c44a8-b764-4e91-9c05-4bf158dbaa4e",
   "metadata": {
    "tags": []
   },
   "source": [
    "## Pub/Sub BQ Subscription"
   ]
  },
  {
   "cell_type": "markdown",
   "id": "708babbd-31db-4f6d-826d-26af831e3ead",
   "metadata": {},
   "source": [
    "## List all existing subscriptions"
   ]
  },
  {
   "cell_type": "code",
   "execution_count": 544,
   "id": "aff330a3-3f9a-4994-b8b4-953df54379ef",
   "metadata": {},
   "outputs": [
    {
     "name": "stdout",
     "output_type": "stream",
     "text": [
      "projects/curious-skyline-360213/subscriptions/CX_schema_json_BQ\n",
      "projects/curious-skyline-360213/subscriptions/CX_schema_hourly\n"
     ]
    }
   ],
   "source": [
    "subscriber = pubsub_v1.SubscriberClient()\n",
    "project_path = f\"projects/{project_id}\"\n",
    "\n",
    "# Wrap the subscriber in a 'with' block to automatically call close() to\n",
    "# close the underlying gRPC channel when done.\n",
    "with subscriber:\n",
    "    for subscription in subscriber.list_subscriptions(\n",
    "        request={\"project\": project_path}\n",
    "    ):\n",
    "        print(subscription.name)"
   ]
  },
  {
   "cell_type": "markdown",
   "id": "8d8d246d-d823-44fb-9f93-ff41fb24e25d",
   "metadata": {},
   "source": [
    "### List all subscriptions to given topic"
   ]
  },
  {
   "cell_type": "code",
   "execution_count": 547,
   "id": "e5e847ee-fa0b-4d21-a3ec-d15b259c359d",
   "metadata": {},
   "outputs": [
    {
     "name": "stdout",
     "output_type": "stream",
     "text": [
      "projects/curious-skyline-360213/subscriptions/CX_schema_hourly\n"
     ]
    }
   ],
   "source": [
    "topic_id = \"CX_schema_json\"\n",
    "\n",
    "publisher = pubsub_v1.PublisherClient()\n",
    "topic_path = publisher.topic_path(project_id, topic_id)\n",
    "\n",
    "response = publisher.list_topic_subscriptions(request={\"topic\": topic_path})\n",
    "for subscription in response:\n",
    "    print(subscription)"
   ]
  },
  {
   "cell_type": "markdown",
   "id": "bc1f8dfa-7a78-4ed9-a71c-c610712f2e79",
   "metadata": {},
   "source": [
    "### Create BQ Subscription with above schema and table"
   ]
  },
  {
   "cell_type": "code",
   "execution_count": 543,
   "id": "272f0bac-7e36-4e81-9cd3-59d82a16359c",
   "metadata": {},
   "outputs": [
    {
     "name": "stdout",
     "output_type": "stream",
     "text": [
      "BigQuery subscription created: name: \"projects/curious-skyline-360213/subscriptions/CX_schema_hourly\"\n",
      "topic: \"projects/curious-skyline-360213/topics/CX_schema_json\"\n",
      "push_config {\n",
      "}\n",
      "ack_deadline_seconds: 10\n",
      "message_retention_duration {\n",
      "  seconds: 604800\n",
      "}\n",
      "expiration_policy {\n",
      "  ttl {\n",
      "    seconds: 2678400\n",
      "  }\n",
      "}\n",
      "bigquery_config {\n",
      "  table: \"curious-skyline-360213.CX.CX_Stream_hour_partition\"\n",
      "  use_topic_schema: true\n",
      "  write_metadata: true\n",
      "  state: ACTIVE\n",
      "}\n",
      "state: ACTIVE\n",
      ".\n",
      "Table for subscription is: curious-skyline-360213.CX.CX_Stream_hour_partition\n"
     ]
    }
   ],
   "source": [
    "topic_id = \"CX_schema_json\"\n",
    "subscription_id = \"CX_schema_hourly\"\n",
    "bigquery_table_id = f\"curious-skyline-360213.CX.{table_name_}\"\n",
    "\n",
    "subscriber = pubsub_v1.SubscriberClient()\n",
    "topic_path = publisher.topic_path(project_id, topic_id)\n",
    "subscription_path = subscriber.subscription_path(project_id, subscription_id)\n",
    "\n",
    "bigquery_config = pubsub_v1.types.BigQueryConfig(table=bigquery_table_id, write_metadata=True, use_topic_schema=True)\n",
    "\n",
    "# Wrap the subscriber in a 'with' block to automatically call close() to\n",
    "# close the underlying gRPC channel when done.\n",
    "with subscriber:\n",
    "    subscription = subscriber.create_subscription(\n",
    "        request={\n",
    "            \"name\": subscription_path,\n",
    "            \"topic\": topic_path,\n",
    "            \"bigquery_config\": bigquery_config,\n",
    "        }\n",
    "    )\n",
    "\n",
    "print(f\"BigQuery subscription created: {subscription}.\")\n",
    "print(f\"Table for subscription is: {bigquery_table_id}\")"
   ]
  },
  {
   "cell_type": "markdown",
   "id": "7017b805-3b79-49e3-9358-9fb8cc4e0d78",
   "metadata": {},
   "source": [
    "### Delete subscription"
   ]
  },
  {
   "cell_type": "code",
   "execution_count": 545,
   "id": "03c957c0-f76a-46ef-957b-16eeb9dca063",
   "metadata": {},
   "outputs": [
    {
     "name": "stdout",
     "output_type": "stream",
     "text": [
      "Subscription deleted: projects/curious-skyline-360213/subscriptions/CX_schema_json_BQ.\n"
     ]
    }
   ],
   "source": [
    "subscription_id = \"CX_schema_json_BQ\"\n",
    "\n",
    "\n",
    "subscriber = pubsub_v1.SubscriberClient()\n",
    "subscription_path = subscriber.subscription_path(project_id, subscription_id)\n",
    "\n",
    "# Wrap the subscriber in a 'with' block to automatically call close() to\n",
    "# close the underlying gRPC channel when done.\n",
    "with subscriber:\n",
    "    subscriber.delete_subscription(request={\"subscription\": subscription_path})\n",
    "\n",
    "print(f\"Subscription deleted: {subscription_path}.\")"
   ]
  },
  {
   "cell_type": "markdown",
   "id": "d87fd172-782f-47e0-9ad1-049bb57ea589",
   "metadata": {},
   "source": [
    "## Fake data generator"
   ]
  },
  {
   "cell_type": "code",
   "execution_count": 445,
   "id": "2b4e1202-68ca-45e0-896d-ccbcd1b3e9e5",
   "metadata": {},
   "outputs": [
    {
     "data": {
      "text/plain": [
       "['Market',\n",
       " 'Ministry',\n",
       " 'Department',\n",
       " 'Type_Of_Visit',\n",
       " 'Survey_Completion_Date',\n",
       " 'Survey_Type',\n",
       " 'Survey_Project',\n",
       " 'Survey_ID',\n",
       " 'Gender',\n",
       " 'Age_Group',\n",
       " 'LTR_Facility',\n",
       " 'LTR_Doctor',\n",
       " 'Anything_Outstanding',\n",
       " 'Improve_Stay']"
      ]
     },
     "execution_count": 445,
     "metadata": {},
     "output_type": "execute_result"
    }
   ],
   "source": [
    "df_project['column_name'][:-5].to_list()"
   ]
  },
  {
   "cell_type": "code",
   "execution_count": 14,
   "id": "0b76a27b-2f7b-48d6-b894-8104571b2e38",
   "metadata": {},
   "outputs": [],
   "source": [
    "def generate_message():    \n",
    "    #Enterprise Hierarchy\n",
    "    def Market():\n",
    "        return random.choice(['TN', 'TX', 'MI', 'FL'])\n",
    "    def Ministry():\n",
    "        return random.choice(['TNNAS', 'TXAUS', 'MIDET', 'FLJAC' ])\n",
    "    def Department():\n",
    "        return random.randint(10000, 30000)\n",
    "    \n",
    "    #Reporting hierarchy to be joined off separate source once data is processed\n",
    "\n",
    "    #Tuchpoint metadata\n",
    "    def Type_Of_Visit():\n",
    "        return random.choice(['In Person', 'Virtual'])\n",
    "\n",
    "    #Survey metadata\n",
    "    def Survey_Completion_Date():\n",
    "        return datetime.date.today().strftime('%m-%d-%Y')\n",
    "    def Survey_Type(): \n",
    "        return random.choice(['OAS', 'AMG', 'HCAHPS', 'ED'])\n",
    "    def Survey_Project(): \n",
    "        return random.randint(10000, 30000)\n",
    "    def Survey_ID(): \n",
    "        return random.randint(10000, 30000)\n",
    "\n",
    "    #Patient demographics\n",
    "    def Gender():\n",
    "        return random.choice(['Male', 'Female'])\n",
    "    def Age_Group():\n",
    "        return random.choice(['18-24', '25-29', '30-34', '35-39'])\n",
    "\n",
    "    #Survey questions\n",
    "    def Anything_Outstanding():\n",
    "        return gen.gen_sentence()\n",
    "    def Improve_Stay():\n",
    "        return gen.gen_sentence()\n",
    "    def LTR_Facility():\n",
    "        return random.randint(1, 10)\n",
    "    def LTR_Doctor():\n",
    "        return random.randint(1, 10)\n",
    "\n",
    "    return {\"Market\" : Market(),\n",
    "            \"Ministry\": Ministry(),\n",
    "            'Department': Department(),\n",
    "            'Type_Of_Visit': Type_Of_Visit(),\n",
    "             'Survey_Completion_Date': Survey_Completion_Date(),\n",
    "             'Survey_Type': Survey_Type(),\n",
    "             'Survey_Project': Survey_Project(),\n",
    "             'Survey_ID': Survey_ID(),\n",
    "             'Gender': Gender(),\n",
    "             'Age_Group': Age_Group(),\n",
    "             'LTR_Facility': LTR_Facility(),\n",
    "             'LTR_Doctor': LTR_Doctor(),\n",
    "             'Anything_Outstanding': Anything_Outstanding(),\n",
    "             'Improve_Stay': Improve_Stay()            \n",
    "           }"
   ]
  },
  {
   "cell_type": "code",
   "execution_count": 15,
   "id": "cfd119a4-9eb7-433c-934b-9794e25d1280",
   "metadata": {},
   "outputs": [
    {
     "data": {
      "text/plain": [
       "{'Market': 'FL',\n",
       " 'Ministry': 'MIDET',\n",
       " 'Department': 29648,\n",
       " 'Type_Of_Visit': 'In Person',\n",
       " 'Survey_Completion_Date': '08-26-2022',\n",
       " 'Survey_Type': 'HCAHPS',\n",
       " 'Survey_Project': 16157,\n",
       " 'Survey_ID': 20226,\n",
       " 'Gender': 'Male',\n",
       " 'Age_Group': '30-34',\n",
       " 'LTR_Facility': 10,\n",
       " 'LTR_Doctor': 7,\n",
       " 'Anything_Outstanding': \"No restrictions Okinotorishima. Japan's\",\n",
       " 'Improve_Stay': 'Alexandrine and energy driving a crane motor. Lifting'}"
      ]
     },
     "execution_count": 15,
     "metadata": {},
     "output_type": "execute_result"
    }
   ],
   "source": [
    "generate_message()"
   ]
  },
  {
   "cell_type": "markdown",
   "id": "5d7ca243-67a2-46b0-a268-9e2493b1c667",
   "metadata": {
    "tags": []
   },
   "source": [
    "## Publish single message to Pub/Sub - deprecated"
   ]
  },
  {
   "cell_type": "markdown",
   "id": "9a1f7070-bd07-4410-a9ac-b848e5e0ddc6",
   "metadata": {},
   "source": [
    "Doing this in a round about way by means of DataFrame to display message in human readable format.  \n",
    "Batch messaging skips the DataFrame preview step."
   ]
  },
  {
   "cell_type": "code",
   "execution_count": 481,
   "id": "5197f047-2a6f-4187-bc93-446b4799ca6e",
   "metadata": {},
   "outputs": [],
   "source": [
    "df_.loc[0] = generate_message()"
   ]
  },
  {
   "cell_type": "code",
   "execution_count": 482,
   "id": "41782c05-c3d4-4299-a7c9-63917d66565f",
   "metadata": {},
   "outputs": [
    {
     "data": {
      "text/html": [
       "<div>\n",
       "<style scoped>\n",
       "    .dataframe tbody tr th:only-of-type {\n",
       "        vertical-align: middle;\n",
       "    }\n",
       "\n",
       "    .dataframe tbody tr th {\n",
       "        vertical-align: top;\n",
       "    }\n",
       "\n",
       "    .dataframe thead th {\n",
       "        text-align: right;\n",
       "    }\n",
       "</style>\n",
       "<table border=\"1\" class=\"dataframe\">\n",
       "  <thead>\n",
       "    <tr style=\"text-align: right;\">\n",
       "      <th></th>\n",
       "      <th>Market</th>\n",
       "      <th>Ministry</th>\n",
       "      <th>Department</th>\n",
       "      <th>Type_Of_Visit</th>\n",
       "      <th>Survey_Completion_Date</th>\n",
       "      <th>Survey_Type</th>\n",
       "      <th>Survey_Project</th>\n",
       "      <th>Survey_ID</th>\n",
       "      <th>Gender</th>\n",
       "      <th>Age_Group</th>\n",
       "      <th>LTR_Facility</th>\n",
       "      <th>LTR_Doctor</th>\n",
       "      <th>Anything_Outstanding</th>\n",
       "      <th>Improve_Stay</th>\n",
       "      <th>subscription_name</th>\n",
       "      <th>message_id</th>\n",
       "      <th>publish_time</th>\n",
       "      <th>data</th>\n",
       "      <th>attributes</th>\n",
       "    </tr>\n",
       "  </thead>\n",
       "  <tbody>\n",
       "    <tr>\n",
       "      <th>0</th>\n",
       "      <td>TN</td>\n",
       "      <td>TXAUS</td>\n",
       "      <td>17950</td>\n",
       "      <td>In Person</td>\n",
       "      <td>08-23-2022</td>\n",
       "      <td>HCAHPS</td>\n",
       "      <td>14714</td>\n",
       "      <td>24663</td>\n",
       "      <td>Male</td>\n",
       "      <td>30-34</td>\n",
       "      <td>5</td>\n",
       "      <td>9</td>\n",
       "      <td>Genre. DJs became unsustainable and he establi...</td>\n",
       "      <td>Burnings of Ertebølle middens</td>\n",
       "      <td>NaN</td>\n",
       "      <td>NaN</td>\n",
       "      <td>NaN</td>\n",
       "      <td>NaN</td>\n",
       "      <td>NaN</td>\n",
       "    </tr>\n",
       "  </tbody>\n",
       "</table>\n",
       "</div>"
      ],
      "text/plain": [
       "  Market Ministry Department Type_Of_Visit Survey_Completion_Date Survey_Type  \\\n",
       "0     TN    TXAUS      17950     In Person             08-23-2022      HCAHPS   \n",
       "\n",
       "  Survey_Project Survey_ID Gender Age_Group LTR_Facility LTR_Doctor  \\\n",
       "0          14714     24663   Male     30-34            5          9   \n",
       "\n",
       "                                Anything_Outstanding  \\\n",
       "0  Genre. DJs became unsustainable and he establi...   \n",
       "\n",
       "                    Improve_Stay subscription_name message_id publish_time  \\\n",
       "0  Burnings of Ertebølle middens               NaN        NaN          NaN   \n",
       "\n",
       "  data attributes  \n",
       "0  NaN        NaN  "
      ]
     },
     "execution_count": 482,
     "metadata": {},
     "output_type": "execute_result"
    }
   ],
   "source": [
    "df_"
   ]
  },
  {
   "cell_type": "code",
   "execution_count": 483,
   "id": "6ac98264-bd7c-4524-bc54-92659afd5398",
   "metadata": {},
   "outputs": [],
   "source": [
    "payload = df_.iloc[0, :-5].to_json()\n",
    "data = str.encode(payload)"
   ]
  },
  {
   "cell_type": "code",
   "execution_count": 484,
   "id": "e139d6a7-76a4-4425-9573-8f20addf7506",
   "metadata": {},
   "outputs": [
    {
     "data": {
      "text/plain": [
       "<Future at 0x7f629f194650 state=pending>"
      ]
     },
     "execution_count": 484,
     "metadata": {},
     "output_type": "execute_result"
    }
   ],
   "source": [
    "topic_name = \"CX_schema_json\"\n",
    "topic_path = f\"projects/{project_id}/topics/{topic_name}\"\n",
    "\n",
    "publisher.publish(\n",
    "    topic = topic_path,\n",
    "    data = data)"
   ]
  },
  {
   "cell_type": "markdown",
   "id": "0bbc9430-1493-4903-8c5a-5e2ba09e3ff0",
   "metadata": {},
   "source": [
    "## Publish lots of messages at random intervals"
   ]
  },
  {
   "cell_type": "code",
   "execution_count": 16,
   "id": "bd750ff4-9de9-454e-8bd7-41ebe3b32342",
   "metadata": {},
   "outputs": [],
   "source": [
    "def simulate_stream(n_minutes, n_burst, topic_name):\n",
    "    \"\"\"\n",
    "    Sends bursts of n_burst every 1-30 seconds over a period of specified n_minutes.\n",
    "    \"\"\"\n",
    "    \n",
    "    \n",
    "    topic_path = f\"projects/{project_id}/topics/{topic_name}\"\n",
    "\n",
    "    t_end = time.time() + 60 * n_minutes\n",
    "    n_batches = 0\n",
    "    while time.time() < t_end:\n",
    "        #send a burst of n_burst messages\n",
    "        for _ in range(n_burst):\n",
    "            publisher.publish(\n",
    "                topic = topic_path,\n",
    "                data = str.encode(json.dumps(generate_message())))\n",
    "        \n",
    "        #wait for some time from 1 to 30 seconds\n",
    "        time.sleep(random.randint(1, 30))\n",
    "        n_batches += 1\n",
    "    \n",
    "    total_messages = n_batches*n_burst\n",
    "    print(f'Published {total_messages} messages.')"
   ]
  },
  {
   "cell_type": "code",
   "execution_count": 17,
   "id": "6c7175e0-4c97-4095-ab7a-eb4a41e23bc3",
   "metadata": {},
   "outputs": [
    {
     "name": "stdout",
     "output_type": "stream",
     "text": [
      "Published 80 messages.\n",
      "CPU times: user 68.7 ms, sys: 7.49 ms, total: 76.2 ms\n",
      "Wall time: 1min 6s\n"
     ]
    }
   ],
   "source": [
    "%%time\n",
    "simulate_stream(n_minutes=1, n_burst=20, topic_name=\"CX_schema_json\")"
   ]
  },
  {
   "cell_type": "markdown",
   "id": "3f0a229e-220b-4cbf-b123-56a991419c71",
   "metadata": {},
   "source": [
    "### Query sink table subscription"
   ]
  },
  {
   "cell_type": "code",
   "execution_count": 508,
   "id": "6b8ff131-8d2f-494f-9472-174fad650c62",
   "metadata": {},
   "outputs": [
    {
     "data": {
      "text/html": [
       "<div>\n",
       "<style scoped>\n",
       "    .dataframe tbody tr th:only-of-type {\n",
       "        vertical-align: middle;\n",
       "    }\n",
       "\n",
       "    .dataframe tbody tr th {\n",
       "        vertical-align: top;\n",
       "    }\n",
       "\n",
       "    .dataframe thead th {\n",
       "        text-align: right;\n",
       "    }\n",
       "</style>\n",
       "<table border=\"1\" class=\"dataframe\">\n",
       "  <thead>\n",
       "    <tr style=\"text-align: right;\">\n",
       "      <th></th>\n",
       "      <th>Market</th>\n",
       "      <th>Ministry</th>\n",
       "      <th>Department</th>\n",
       "      <th>Type_Of_Visit</th>\n",
       "      <th>Survey_Completion_Date</th>\n",
       "      <th>Survey_Type</th>\n",
       "      <th>Survey_Project</th>\n",
       "      <th>Survey_ID</th>\n",
       "      <th>Gender</th>\n",
       "      <th>Age_Group</th>\n",
       "      <th>LTR_Facility</th>\n",
       "      <th>LTR_Doctor</th>\n",
       "      <th>Anything_Outstanding</th>\n",
       "      <th>Improve_Stay</th>\n",
       "      <th>subscription_name</th>\n",
       "      <th>message_id</th>\n",
       "      <th>publish_time</th>\n",
       "      <th>data</th>\n",
       "      <th>attributes</th>\n",
       "    </tr>\n",
       "  </thead>\n",
       "  <tbody>\n",
       "    <tr>\n",
       "      <th>0</th>\n",
       "      <td>TX</td>\n",
       "      <td>TNNAS</td>\n",
       "      <td>17218</td>\n",
       "      <td>In Person</td>\n",
       "      <td>08-23-2022</td>\n",
       "      <td>AMG</td>\n",
       "      <td>12996</td>\n",
       "      <td>14408</td>\n",
       "      <td>Male</td>\n",
       "      <td>25-29</td>\n",
       "      <td>9</td>\n",
       "      <td>10</td>\n",
       "      <td>1688, noted address uniqueness. The size of th...</td>\n",
       "      <td>Only Marxist religious congregations. 100,960 ...</td>\n",
       "      <td>projects/348611359036/subscriptions/CX_schema_...</td>\n",
       "      <td>5425698921604647</td>\n",
       "      <td>2022-08-23 18:02:40.511000+00:00</td>\n",
       "      <td>None</td>\n",
       "      <td>{\"googclient_schemaname\": \"projects/curious-sk...</td>\n",
       "    </tr>\n",
       "    <tr>\n",
       "      <th>1</th>\n",
       "      <td>TX</td>\n",
       "      <td>TNNAS</td>\n",
       "      <td>17218</td>\n",
       "      <td>In Person</td>\n",
       "      <td>08-23-2022</td>\n",
       "      <td>AMG</td>\n",
       "      <td>12996</td>\n",
       "      <td>14408</td>\n",
       "      <td>Male</td>\n",
       "      <td>25-29</td>\n",
       "      <td>9</td>\n",
       "      <td>10</td>\n",
       "      <td>1688, noted address uniqueness. The size of th...</td>\n",
       "      <td>Only Marxist religious congregations. 100,960 ...</td>\n",
       "      <td>projects/348611359036/subscriptions/CX_schema_...</td>\n",
       "      <td>5425732453511627</td>\n",
       "      <td>2022-08-23 18:03:08.073000+00:00</td>\n",
       "      <td>None</td>\n",
       "      <td>{\"googclient_schemaencoding\": \"JSON\",\"googclie...</td>\n",
       "    </tr>\n",
       "    <tr>\n",
       "      <th>2</th>\n",
       "      <td>TN</td>\n",
       "      <td>TXAUS</td>\n",
       "      <td>17950</td>\n",
       "      <td>In Person</td>\n",
       "      <td>08-23-2022</td>\n",
       "      <td>HCAHPS</td>\n",
       "      <td>14714</td>\n",
       "      <td>24663</td>\n",
       "      <td>Male</td>\n",
       "      <td>30-34</td>\n",
       "      <td>5</td>\n",
       "      <td>9</td>\n",
       "      <td>Genre. DJs became unsustainable and he establi...</td>\n",
       "      <td>Burnings of Ertebølle middens</td>\n",
       "      <td>projects/348611359036/subscriptions/CX_schema_...</td>\n",
       "      <td>5426276393328167</td>\n",
       "      <td>2022-08-23 19:38:03.067000+00:00</td>\n",
       "      <td>None</td>\n",
       "      <td>{\"googclient_schemaname\": \"projects/curious-sk...</td>\n",
       "    </tr>\n",
       "    <tr>\n",
       "      <th>3</th>\n",
       "      <td>TN</td>\n",
       "      <td>TNNAS</td>\n",
       "      <td>15854</td>\n",
       "      <td>In Person</td>\n",
       "      <td>08-23-2022</td>\n",
       "      <td>HCAHPS</td>\n",
       "      <td>14125</td>\n",
       "      <td>26883</td>\n",
       "      <td>Female</td>\n",
       "      <td>25-29</td>\n",
       "      <td>1</td>\n",
       "      <td>3</td>\n",
       "      <td>By 55%. sustainable economic development</td>\n",
       "      <td>Social contexts. manpower contribution to the end</td>\n",
       "      <td>projects/348611359036/subscriptions/CX_schema_...</td>\n",
       "      <td>5426322517225864</td>\n",
       "      <td>2022-08-23 19:45:23.562000+00:00</td>\n",
       "      <td>None</td>\n",
       "      <td>{\"googclient_schemaname\": \"projects/curious-sk...</td>\n",
       "    </tr>\n",
       "    <tr>\n",
       "      <th>4</th>\n",
       "      <td>TX</td>\n",
       "      <td>TXAUS</td>\n",
       "      <td>23298</td>\n",
       "      <td>In Person</td>\n",
       "      <td>08-23-2022</td>\n",
       "      <td>OAS</td>\n",
       "      <td>13045</td>\n",
       "      <td>13832</td>\n",
       "      <td>Female</td>\n",
       "      <td>25-29</td>\n",
       "      <td>1</td>\n",
       "      <td>2</td>\n",
       "      <td>Delta provides production near</td>\n",
       "      <td>Million bits the 61 world's largest 10 km race...</td>\n",
       "      <td>projects/348611359036/subscriptions/CX_schema_...</td>\n",
       "      <td>5426359843136933</td>\n",
       "      <td>2022-08-23 19:55:27.578000+00:00</td>\n",
       "      <td>None</td>\n",
       "      <td>{\"googclient_schemaencoding\": \"JSON\",\"googclie...</td>\n",
       "    </tr>\n",
       "    <tr>\n",
       "      <th>...</th>\n",
       "      <td>...</td>\n",
       "      <td>...</td>\n",
       "      <td>...</td>\n",
       "      <td>...</td>\n",
       "      <td>...</td>\n",
       "      <td>...</td>\n",
       "      <td>...</td>\n",
       "      <td>...</td>\n",
       "      <td>...</td>\n",
       "      <td>...</td>\n",
       "      <td>...</td>\n",
       "      <td>...</td>\n",
       "      <td>...</td>\n",
       "      <td>...</td>\n",
       "      <td>...</td>\n",
       "      <td>...</td>\n",
       "      <td>...</td>\n",
       "      <td>...</td>\n",
       "      <td>...</td>\n",
       "    </tr>\n",
       "    <tr>\n",
       "      <th>579</th>\n",
       "      <td>TX</td>\n",
       "      <td>MIDET</td>\n",
       "      <td>10264</td>\n",
       "      <td>Virtual</td>\n",
       "      <td>08-23-2022</td>\n",
       "      <td>HCAHPS</td>\n",
       "      <td>22440</td>\n",
       "      <td>28308</td>\n",
       "      <td>Male</td>\n",
       "      <td>30-34</td>\n",
       "      <td>7</td>\n",
       "      <td>6</td>\n",
       "      <td>By Europe tribes encountered</td>\n",
       "      <td>(120.2 kg), This concept of</td>\n",
       "      <td>projects/348611359036/subscriptions/CX_schema_...</td>\n",
       "      <td>5426409448828666</td>\n",
       "      <td>2022-08-23 20:04:59.381000+00:00</td>\n",
       "      <td>None</td>\n",
       "      <td>{\"googclient_schemaname\": \"projects/curious-sk...</td>\n",
       "    </tr>\n",
       "    <tr>\n",
       "      <th>580</th>\n",
       "      <td>FL</td>\n",
       "      <td>MIDET</td>\n",
       "      <td>11315</td>\n",
       "      <td>In Person</td>\n",
       "      <td>08-23-2022</td>\n",
       "      <td>ED</td>\n",
       "      <td>17440</td>\n",
       "      <td>21678</td>\n",
       "      <td>Female</td>\n",
       "      <td>35-39</td>\n",
       "      <td>9</td>\n",
       "      <td>4</td>\n",
       "      <td>Western France, short stay hotels are short da...</td>\n",
       "      <td>Democratic republic. middle-étage bases that</td>\n",
       "      <td>projects/348611359036/subscriptions/CX_schema_...</td>\n",
       "      <td>5426409448828668</td>\n",
       "      <td>2022-08-23 20:04:59.381000+00:00</td>\n",
       "      <td>None</td>\n",
       "      <td>{\"googclient_schemaencoding\": \"JSON\",\"googclie...</td>\n",
       "    </tr>\n",
       "    <tr>\n",
       "      <th>581</th>\n",
       "      <td>MI</td>\n",
       "      <td>TNNAS</td>\n",
       "      <td>25706</td>\n",
       "      <td>Virtual</td>\n",
       "      <td>08-23-2022</td>\n",
       "      <td>OAS</td>\n",
       "      <td>28083</td>\n",
       "      <td>25199</td>\n",
       "      <td>Female</td>\n",
       "      <td>18-24</td>\n",
       "      <td>5</td>\n",
       "      <td>1</td>\n",
       "      <td>Itself. A exclusive private</td>\n",
       "      <td>Typically light altocumulus (Ac.</td>\n",
       "      <td>projects/348611359036/subscriptions/CX_schema_...</td>\n",
       "      <td>5426409448828669</td>\n",
       "      <td>2022-08-23 20:04:59.381000+00:00</td>\n",
       "      <td>None</td>\n",
       "      <td>{\"googclient_schemaencoding\": \"JSON\",\"googclie...</td>\n",
       "    </tr>\n",
       "    <tr>\n",
       "      <th>582</th>\n",
       "      <td>TX</td>\n",
       "      <td>MIDET</td>\n",
       "      <td>23141</td>\n",
       "      <td>Virtual</td>\n",
       "      <td>08-23-2022</td>\n",
       "      <td>HCAHPS</td>\n",
       "      <td>25598</td>\n",
       "      <td>23165</td>\n",
       "      <td>Female</td>\n",
       "      <td>18-24</td>\n",
       "      <td>6</td>\n",
       "      <td>5</td>\n",
       "      <td>Exporting, manufacturing, leisure trips!</td>\n",
       "      <td>All being such names as (translated from Frenc...</td>\n",
       "      <td>projects/348611359036/subscriptions/CX_schema_...</td>\n",
       "      <td>5426409448828667</td>\n",
       "      <td>2022-08-23 20:04:59.381000+00:00</td>\n",
       "      <td>None</td>\n",
       "      <td>{\"googclient_schemaencoding\": \"JSON\",\"googclie...</td>\n",
       "    </tr>\n",
       "    <tr>\n",
       "      <th>583</th>\n",
       "      <td>FL</td>\n",
       "      <td>TXAUS</td>\n",
       "      <td>27530</td>\n",
       "      <td>In Person</td>\n",
       "      <td>08-23-2022</td>\n",
       "      <td>OAS</td>\n",
       "      <td>26243</td>\n",
       "      <td>29251</td>\n",
       "      <td>Female</td>\n",
       "      <td>35-39</td>\n",
       "      <td>2</td>\n",
       "      <td>1</td>\n",
       "      <td>Lifting agent, may proceed. Vehicles turning l...</td>\n",
       "      <td>Since new the continent, creating many colonial</td>\n",
       "      <td>projects/348611359036/subscriptions/CX_schema_...</td>\n",
       "      <td>5426409448828672</td>\n",
       "      <td>2022-08-23 20:04:59.381000+00:00</td>\n",
       "      <td>None</td>\n",
       "      <td>{\"googclient_schemaname\": \"projects/curious-sk...</td>\n",
       "    </tr>\n",
       "  </tbody>\n",
       "</table>\n",
       "<p>584 rows × 19 columns</p>\n",
       "</div>"
      ],
      "text/plain": [
       "    Market Ministry  Department Type_Of_Visit Survey_Completion_Date  \\\n",
       "0       TX    TNNAS       17218     In Person             08-23-2022   \n",
       "1       TX    TNNAS       17218     In Person             08-23-2022   \n",
       "2       TN    TXAUS       17950     In Person             08-23-2022   \n",
       "3       TN    TNNAS       15854     In Person             08-23-2022   \n",
       "4       TX    TXAUS       23298     In Person             08-23-2022   \n",
       "..     ...      ...         ...           ...                    ...   \n",
       "579     TX    MIDET       10264       Virtual             08-23-2022   \n",
       "580     FL    MIDET       11315     In Person             08-23-2022   \n",
       "581     MI    TNNAS       25706       Virtual             08-23-2022   \n",
       "582     TX    MIDET       23141       Virtual             08-23-2022   \n",
       "583     FL    TXAUS       27530     In Person             08-23-2022   \n",
       "\n",
       "    Survey_Type  Survey_Project  Survey_ID  Gender Age_Group  LTR_Facility  \\\n",
       "0           AMG           12996      14408    Male     25-29             9   \n",
       "1           AMG           12996      14408    Male     25-29             9   \n",
       "2        HCAHPS           14714      24663    Male     30-34             5   \n",
       "3        HCAHPS           14125      26883  Female     25-29             1   \n",
       "4           OAS           13045      13832  Female     25-29             1   \n",
       "..          ...             ...        ...     ...       ...           ...   \n",
       "579      HCAHPS           22440      28308    Male     30-34             7   \n",
       "580          ED           17440      21678  Female     35-39             9   \n",
       "581         OAS           28083      25199  Female     18-24             5   \n",
       "582      HCAHPS           25598      23165  Female     18-24             6   \n",
       "583         OAS           26243      29251  Female     35-39             2   \n",
       "\n",
       "     LTR_Doctor                               Anything_Outstanding  \\\n",
       "0            10  1688, noted address uniqueness. The size of th...   \n",
       "1            10  1688, noted address uniqueness. The size of th...   \n",
       "2             9  Genre. DJs became unsustainable and he establi...   \n",
       "3             3           By 55%. sustainable economic development   \n",
       "4             2                     Delta provides production near   \n",
       "..          ...                                                ...   \n",
       "579           6                       By Europe tribes encountered   \n",
       "580           4  Western France, short stay hotels are short da...   \n",
       "581           1                        Itself. A exclusive private   \n",
       "582           5           Exporting, manufacturing, leisure trips!   \n",
       "583           1  Lifting agent, may proceed. Vehicles turning l...   \n",
       "\n",
       "                                          Improve_Stay  \\\n",
       "0    Only Marxist religious congregations. 100,960 ...   \n",
       "1    Only Marxist religious congregations. 100,960 ...   \n",
       "2                        Burnings of Ertebølle middens   \n",
       "3    Social contexts. manpower contribution to the end   \n",
       "4    Million bits the 61 world's largest 10 km race...   \n",
       "..                                                 ...   \n",
       "579                        (120.2 kg), This concept of   \n",
       "580       Democratic republic. middle-étage bases that   \n",
       "581                   Typically light altocumulus (Ac.   \n",
       "582  All being such names as (translated from Frenc...   \n",
       "583    Since new the continent, creating many colonial   \n",
       "\n",
       "                                     subscription_name        message_id  \\\n",
       "0    projects/348611359036/subscriptions/CX_schema_...  5425698921604647   \n",
       "1    projects/348611359036/subscriptions/CX_schema_...  5425732453511627   \n",
       "2    projects/348611359036/subscriptions/CX_schema_...  5426276393328167   \n",
       "3    projects/348611359036/subscriptions/CX_schema_...  5426322517225864   \n",
       "4    projects/348611359036/subscriptions/CX_schema_...  5426359843136933   \n",
       "..                                                 ...               ...   \n",
       "579  projects/348611359036/subscriptions/CX_schema_...  5426409448828666   \n",
       "580  projects/348611359036/subscriptions/CX_schema_...  5426409448828668   \n",
       "581  projects/348611359036/subscriptions/CX_schema_...  5426409448828669   \n",
       "582  projects/348611359036/subscriptions/CX_schema_...  5426409448828667   \n",
       "583  projects/348611359036/subscriptions/CX_schema_...  5426409448828672   \n",
       "\n",
       "                        publish_time  data  \\\n",
       "0   2022-08-23 18:02:40.511000+00:00  None   \n",
       "1   2022-08-23 18:03:08.073000+00:00  None   \n",
       "2   2022-08-23 19:38:03.067000+00:00  None   \n",
       "3   2022-08-23 19:45:23.562000+00:00  None   \n",
       "4   2022-08-23 19:55:27.578000+00:00  None   \n",
       "..                               ...   ...   \n",
       "579 2022-08-23 20:04:59.381000+00:00  None   \n",
       "580 2022-08-23 20:04:59.381000+00:00  None   \n",
       "581 2022-08-23 20:04:59.381000+00:00  None   \n",
       "582 2022-08-23 20:04:59.381000+00:00  None   \n",
       "583 2022-08-23 20:04:59.381000+00:00  None   \n",
       "\n",
       "                                            attributes  \n",
       "0    {\"googclient_schemaname\": \"projects/curious-sk...  \n",
       "1    {\"googclient_schemaencoding\": \"JSON\",\"googclie...  \n",
       "2    {\"googclient_schemaname\": \"projects/curious-sk...  \n",
       "3    {\"googclient_schemaname\": \"projects/curious-sk...  \n",
       "4    {\"googclient_schemaencoding\": \"JSON\",\"googclie...  \n",
       "..                                                 ...  \n",
       "579  {\"googclient_schemaname\": \"projects/curious-sk...  \n",
       "580  {\"googclient_schemaencoding\": \"JSON\",\"googclie...  \n",
       "581  {\"googclient_schemaencoding\": \"JSON\",\"googclie...  \n",
       "582  {\"googclient_schemaencoding\": \"JSON\",\"googclie...  \n",
       "583  {\"googclient_schemaname\": \"projects/curious-sk...  \n",
       "\n",
       "[584 rows x 19 columns]"
      ]
     },
     "execution_count": 508,
     "metadata": {},
     "output_type": "execute_result"
    }
   ],
   "source": [
    "query =\"\"\"\n",
    "SELECT \n",
    "*\n",
    "\n",
    "FROM `curious-skyline-360213.CX.Stream_test_schema_attributes`\n",
    "\n",
    "\"\"\"\n",
    "query_job = client.query(query,\n",
    "    #location=\"us-west1\",\n",
    ")\n",
    "\n",
    "df_data = query_job.to_dataframe()\n",
    "df_data"
   ]
  },
  {
   "cell_type": "code",
   "execution_count": null,
   "id": "1f776f82-70d5-48bd-ad15-17f853ac8598",
   "metadata": {},
   "outputs": [],
   "source": []
  }
 ],
 "metadata": {
  "environment": {
   "kernel": "python3",
   "name": "common-cpu.m95",
   "type": "gcloud",
   "uri": "gcr.io/deeplearning-platform-release/base-cpu:m95"
  },
  "kernelspec": {
   "display_name": "Python 3",
   "language": "python",
   "name": "python3"
  },
  "language_info": {
   "codemirror_mode": {
    "name": "ipython",
    "version": 3
   },
   "file_extension": ".py",
   "mimetype": "text/x-python",
   "name": "python",
   "nbconvert_exporter": "python",
   "pygments_lexer": "ipython3",
   "version": "3.7.12"
  }
 },
 "nbformat": 4,
 "nbformat_minor": 5
}
