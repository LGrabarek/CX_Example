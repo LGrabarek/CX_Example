{
 "cells": [
  {
   "cell_type": "markdown",
   "id": "05125060-3639-4477-9835-ddc97dc47830",
   "metadata": {},
   "source": [
    "# Project Setup"
   ]
  },
  {
   "cell_type": "code",
   "execution_count": 66,
   "id": "2078e7ec-6770-4738-90f7-9e7ce48803dc",
   "metadata": {
    "tags": []
   },
   "outputs": [],
   "source": [
    "import kfp\n",
    "from google.cloud import aiplatform\n",
    "from google_cloud_pipeline_components import aiplatform as gcc_aip\n",
    "from google_cloud_pipeline_components.v1 import bigquery as gcc_bq\n",
    "\n",
    "from kfp.v2 import compiler\n",
    "from kfp.v2.dsl import component\n",
    "import google.cloud.aiplatform as aip"
   ]
  },
  {
   "cell_type": "code",
   "execution_count": 59,
   "id": "d69d7ac5-0aff-42c8-9351-3d50a8254383",
   "metadata": {},
   "outputs": [],
   "source": [
    "project_id = \"curious-skyline-360213\"\n",
    "dataset_id = \"CX\"\n",
    "pipeline_root_path = \"gs://curious-skyline/Projects/CX/CXpipeline\""
   ]
  },
  {
   "cell_type": "code",
   "execution_count": 60,
   "id": "c5af8469-0f0f-4538-a04b-d398593515f9",
   "metadata": {},
   "outputs": [],
   "source": [
    "from google.cloud import bigquery\n",
    "client = bigquery.Client(location=\"us-west1\", project=project_id)"
   ]
  },
  {
   "cell_type": "code",
   "execution_count": 61,
   "id": "4cb92089-8ba6-42ed-a6fa-f0f6872e744a",
   "metadata": {},
   "outputs": [],
   "source": [
    "import datetime"
   ]
  },
  {
   "cell_type": "code",
   "execution_count": 62,
   "id": "0d29937c-4f04-4199-9a10-06019ec0e105",
   "metadata": {},
   "outputs": [],
   "source": [
    "#Initialize Vertex AI SDK for Python\n",
    "aip.init(project=project_id, staging_bucket=pipeline_root_path)"
   ]
  },
  {
   "cell_type": "code",
   "execution_count": null,
   "id": "2ca16de5-1833-4ebb-951d-9465ded9ade6",
   "metadata": {},
   "outputs": [],
   "source": []
  },
  {
   "cell_type": "code",
   "execution_count": null,
   "id": "32cdf5d1-f7e1-4d1a-bb10-cafe4ed46292",
   "metadata": {},
   "outputs": [],
   "source": []
  },
  {
   "cell_type": "markdown",
   "id": "d24fe791-68d5-42db-a488-0ec05d2db996",
   "metadata": {},
   "source": [
    "# Pipeline from components\n",
    "https://cloud.google.com/vertex-ai/docs/pipelines/gcpc-list"
   ]
  },
  {
   "cell_type": "markdown",
   "id": "029d15c1-daa2-470f-8a72-f465da61fbe7",
   "metadata": {},
   "source": [
    "## Hourly staging tables"
   ]
  },
  {
   "cell_type": "code",
   "execution_count": 32,
   "id": "14af5ee3-2603-4d5a-ba8f-e756b680d6c1",
   "metadata": {},
   "outputs": [],
   "source": [
    "hours = [' 0', ' 1', ' 2', ' 3', ' 4', ' 5', ' 6', ' 7', ' 8', ' 9', '10', '11', '12', '13', '14', '15', '16', '17', '18', '19', '20', '21', '22', '23']"
   ]
  },
  {
   "cell_type": "code",
   "execution_count": 106,
   "id": "c3dd7e99-81f8-4855-8866-0c7300760d95",
   "metadata": {},
   "outputs": [],
   "source": [
    "def generate_query(query_hour):\n",
    "\n",
    "    query = f\"\"\"\n",
    "    SELECT \n",
    "    Market, \n",
    "    Ministry, \n",
    "    Department, \n",
    "    Type_Of_Visit, \n",
    "    Survey_Completion_Date, \n",
    "    Survey_Type, \n",
    "    Survey_Project, \n",
    "    Survey_ID, \n",
    "    Gender, \n",
    "    Age_Group, \n",
    "    LTR_Facility, \n",
    "    LTR_Doctor, \n",
    "    Anything_Outstanding, \n",
    "    Improve_Stay,\n",
    "    publish_time,\n",
    "    FORMAT_TIMESTAMP('%k', publish_time) AS publish_hour_UTC\n",
    "\n",
    "    FROM `curious-skyline-360213.CX.CX_Stream_hour_partition`\n",
    "\n",
    "    WHERE FORMAT_TIMESTAMP('%k', publish_time) = '{query_hour}'\n",
    "    \"\"\"\n",
    "    \n",
    "    #https://cloud.google.com/bigquery/docs/reference/rest/v2/Job#JobConfigurationQuery\n",
    "    query_options_dict = {\n",
    "        \"destinationTable\": {\n",
    "                              \"projectId\": \"curious-skyline-360213\",\n",
    "                              \"datasetId\": \"CX\",\n",
    "                              \"tableId\": f\"CX_Data_{query_hour.replace(' ', '0')}\",\n",
    "                            },\n",
    "        # \"timePartitioning\": {\n",
    "        #                     \"type\":\"HOUR\",\n",
    "        #                     \"field\":\"publish_time\"\n",
    "        #                     },\n",
    "        \n",
    "        \"writeDisposition\": \"WRITE_TRUNCATE\" #overwrite the existing data\n",
    "    }\n",
    "    \n",
    "    return query, query_options_dict"
   ]
  },
  {
   "cell_type": "code",
   "execution_count": 107,
   "id": "49ced0d4-c88f-4d9c-8099-e0470b859cf8",
   "metadata": {},
   "outputs": [],
   "source": [
    "for hour in hours:\n",
    "\n",
    "    query, query_options_dict= generate_query(hour)\n",
    "\n",
    "    @kfp.dsl.pipeline(\n",
    "        name=f\"cx-pipeline-hour-{hour.replace(' ', '0')}\",\n",
    "        description=\"A simple CX pipeline\",\n",
    "        pipeline_root=pipeline_root_path)\n",
    "\n",
    "    #Move streaming data to hourly table\n",
    "    def pipeline(project_id: str):\n",
    "        bq_new_table = gcc_bq.BigqueryQueryJobOp(\n",
    "        project=project_id,\n",
    "        location=\"us-west1\",\n",
    "        query = query, \n",
    "        job_configuration_query = query_options_dict\n",
    "        )\n",
    "\n",
    "    compiler.Compiler().compile(\n",
    "        pipeline_func=pipeline,\n",
    "        package_path=f'cx-pipeline-hour_{hour.replace(\" \", \"0\")}.json'\n",
    "    )"
   ]
  },
  {
   "cell_type": "markdown",
   "id": "8bb9bd42-e8a4-4d95-a918-f02a2c9f4654",
   "metadata": {
    "tags": []
   },
   "source": [
    "### Run Pipeline"
   ]
  },
  {
   "cell_type": "code",
   "execution_count": 31,
   "id": "0ba96780-a676-4765-9c24-d8f6677f8d8a",
   "metadata": {},
   "outputs": [
    {
     "name": "stdout",
     "output_type": "stream",
     "text": [
      "Creating PipelineJob\n"
     ]
    },
    {
     "name": "stderr",
     "output_type": "stream",
     "text": [
      "INFO:google.cloud.aiplatform.pipeline_jobs:Creating PipelineJob\n"
     ]
    },
    {
     "name": "stdout",
     "output_type": "stream",
     "text": [
      "PipelineJob created. Resource name: projects/348611359036/locations/us-central1/pipelineJobs/cx-pipeline-20220826215043\n"
     ]
    },
    {
     "name": "stderr",
     "output_type": "stream",
     "text": [
      "INFO:google.cloud.aiplatform.pipeline_jobs:PipelineJob created. Resource name: projects/348611359036/locations/us-central1/pipelineJobs/cx-pipeline-20220826215043\n"
     ]
    },
    {
     "name": "stdout",
     "output_type": "stream",
     "text": [
      "To use this PipelineJob in another session:\n"
     ]
    },
    {
     "name": "stderr",
     "output_type": "stream",
     "text": [
      "INFO:google.cloud.aiplatform.pipeline_jobs:To use this PipelineJob in another session:\n"
     ]
    },
    {
     "name": "stdout",
     "output_type": "stream",
     "text": [
      "pipeline_job = aiplatform.PipelineJob.get('projects/348611359036/locations/us-central1/pipelineJobs/cx-pipeline-20220826215043')\n"
     ]
    },
    {
     "name": "stderr",
     "output_type": "stream",
     "text": [
      "INFO:google.cloud.aiplatform.pipeline_jobs:pipeline_job = aiplatform.PipelineJob.get('projects/348611359036/locations/us-central1/pipelineJobs/cx-pipeline-20220826215043')\n"
     ]
    },
    {
     "name": "stdout",
     "output_type": "stream",
     "text": [
      "View Pipeline Job:\n",
      "https://console.cloud.google.com/vertex-ai/locations/us-central1/pipelines/runs/cx-pipeline-20220826215043?project=348611359036\n"
     ]
    },
    {
     "name": "stderr",
     "output_type": "stream",
     "text": [
      "INFO:google.cloud.aiplatform.pipeline_jobs:View Pipeline Job:\n",
      "https://console.cloud.google.com/vertex-ai/locations/us-central1/pipelines/runs/cx-pipeline-20220826215043?project=348611359036\n"
     ]
    }
   ],
   "source": [
    "job = aip.PipelineJob(\n",
    "    display_name=\"cx-pipeline\",\n",
    "    template_path=\"cx-pipeline-hour_20.json\",\n",
    "    pipeline_root=pipeline_root_path,\n",
    "    parameter_values={\n",
    "        'project_id': project_id\n",
    "    }\n",
    ")\n",
    "\n",
    "job.submit()"
   ]
  },
  {
   "cell_type": "markdown",
   "id": "23509d89-0b8f-450d-bfa3-f8b140140aa9",
   "metadata": {},
   "source": [
    "## Data Generation"
   ]
  },
  {
   "cell_type": "code",
   "execution_count": 95,
   "id": "6b59059e-22bb-4daa-8123-9a76b0f212ee",
   "metadata": {},
   "outputs": [],
   "source": [
    "@component(output_component_file=\"fake_data_stream.yaml\", \n",
    "           base_image=\"python:3.7\",\n",
    "           packages_to_install = [\"google-cloud-pubsub\", \"essential_generators\"]\n",
    "          )\n",
    "\n",
    "\n",
    "def simulate_stream(n_minutes:int, n_burst:int, topic_name:str):\n",
    "    \"\"\"\n",
    "    Sends bursts of n_burst every 1-30 seconds over a period of specified n_minutes.\n",
    "    \"\"\"\n",
    "    import json, time, random, datetime\n",
    "    from google.cloud import pubsub_v1    \n",
    "    publisher = pubsub_v1.PublisherClient()\n",
    "    \n",
    "    from essential_generators import DocumentGenerator\n",
    "    gen = DocumentGenerator()\n",
    "    \n",
    "    project_id = \"curious-skyline-360213\"\n",
    "    topic_name = \"CX_schema_json\"\n",
    "    topic_path = f\"projects/{project_id}/topics/{topic_name}\"\n",
    "\n",
    "    def generate_message():    \n",
    "        #Enterprise Hierarchy\n",
    "        def Market():\n",
    "            return random.choice(['TN', 'TX', 'MI', 'FL'])\n",
    "        def Ministry():\n",
    "            return random.choice(['TNNAS', 'TXAUS', 'MIDET', 'FLJAC' ])\n",
    "        def Department():\n",
    "            return random.randint(10000, 30000)\n",
    "\n",
    "        #Reporting hierarchy to be joined off separate source once data is processed\n",
    "\n",
    "        #Tuchpoint metadata\n",
    "        def Type_Of_Visit():\n",
    "            return random.choice(['In Person', 'Virtual'])\n",
    "\n",
    "        #Survey metadata\n",
    "        def Survey_Completion_Date():\n",
    "            return datetime.date.today().strftime('%m-%d-%Y')\n",
    "        def Survey_Type(): \n",
    "            return random.choice(['OAS', 'AMG', 'HCAHPS', 'ED'])\n",
    "        def Survey_Project(): \n",
    "            return random.randint(10000, 30000)\n",
    "        def Survey_ID(): \n",
    "            return random.randint(10000, 30000)\n",
    "\n",
    "        #Patient demographics\n",
    "        def Gender():\n",
    "            return random.choice(['Male', 'Female'])\n",
    "        def Age_Group():\n",
    "            return random.choice(['18-24', '25-29', '30-34', '35-39'])\n",
    "\n",
    "        #Survey questions\n",
    "        def Anything_Outstanding():\n",
    "            return gen.gen_sentence()\n",
    "        def Improve_Stay():\n",
    "            return gen.gen_sentence()\n",
    "        def LTR_Facility():\n",
    "            return random.randint(1, 10)\n",
    "        def LTR_Doctor():\n",
    "            return random.randint(1, 10)\n",
    "\n",
    "        return {\"Market\" : Market(),\n",
    "                \"Ministry\": Ministry(),\n",
    "                'Department': Department(),\n",
    "                'Type_Of_Visit': Type_Of_Visit(),\n",
    "                 'Survey_Completion_Date': Survey_Completion_Date(),\n",
    "                 'Survey_Type': Survey_Type(),\n",
    "                 'Survey_Project': Survey_Project(),\n",
    "                 'Survey_ID': Survey_ID(),\n",
    "                 'Gender': Gender(),\n",
    "                 'Age_Group': Age_Group(),\n",
    "                 'LTR_Facility': LTR_Facility(),\n",
    "                 'LTR_Doctor': LTR_Doctor(),\n",
    "                 'Anything_Outstanding': Anything_Outstanding(),\n",
    "                 'Improve_Stay': Improve_Stay()            \n",
    "               }\n",
    "    \n",
    "\n",
    "    t_end = time.time() + 60 * n_minutes\n",
    "    n_batches = 0\n",
    "    while time.time() < t_end:\n",
    "        #send a burst of n_burst messages\n",
    "        for _ in range(n_burst):\n",
    "            publisher.publish(\n",
    "                topic = topic_path,\n",
    "                data = str.encode(json.dumps(generate_message())))\n",
    "        \n",
    "        #wait for some time from 1 to 30 seconds\n",
    "        time.sleep(random.randint(1, 30))\n",
    "        n_batches += 1\n",
    "    \n",
    "    total_messages = n_batches*n_burst\n",
    "    print(f'Published {total_messages} messages.')"
   ]
  },
  {
   "cell_type": "code",
   "execution_count": 96,
   "id": "a911c21b-fe43-4a8a-b75b-a1e39f87e0c9",
   "metadata": {},
   "outputs": [],
   "source": [
    "@kfp.dsl.pipeline(\n",
    "    name=\"cx-pipeline-fake-data\",\n",
    "    description=\"Fake data generator\",\n",
    "    pipeline_root=pipeline_root_path)\n",
    "\n",
    "#Move streaming data to hourly table\n",
    "def pipeline(project_id:str, \n",
    "             n_minutes:int, \n",
    "             n_burst:int, \n",
    "             topic_name:str = \"CX_schema_json\"):\n",
    "    \n",
    "    fake_data_task = simulate_stream(n_minutes, n_burst, topic_name)\n",
    "\n",
    "compiler.Compiler().compile(\n",
    "    pipeline_func=pipeline,\n",
    "    package_path='cx-pipeline_fake_data.json'\n",
    ")\n",
    "        \n",
    "\n"
   ]
  },
  {
   "cell_type": "code",
   "execution_count": 97,
   "id": "2a181ebb-fc81-4f4c-bdb6-21adbc1aaac4",
   "metadata": {},
   "outputs": [
    {
     "name": "stdout",
     "output_type": "stream",
     "text": [
      "Creating PipelineJob\n"
     ]
    },
    {
     "name": "stderr",
     "output_type": "stream",
     "text": [
      "INFO:google.cloud.aiplatform.pipeline_jobs:Creating PipelineJob\n"
     ]
    },
    {
     "name": "stdout",
     "output_type": "stream",
     "text": [
      "PipelineJob created. Resource name: projects/348611359036/locations/us-central1/pipelineJobs/cx-pipeline-fake-data-20220829164351\n"
     ]
    },
    {
     "name": "stderr",
     "output_type": "stream",
     "text": [
      "INFO:google.cloud.aiplatform.pipeline_jobs:PipelineJob created. Resource name: projects/348611359036/locations/us-central1/pipelineJobs/cx-pipeline-fake-data-20220829164351\n"
     ]
    },
    {
     "name": "stdout",
     "output_type": "stream",
     "text": [
      "To use this PipelineJob in another session:\n"
     ]
    },
    {
     "name": "stderr",
     "output_type": "stream",
     "text": [
      "INFO:google.cloud.aiplatform.pipeline_jobs:To use this PipelineJob in another session:\n"
     ]
    },
    {
     "name": "stdout",
     "output_type": "stream",
     "text": [
      "pipeline_job = aiplatform.PipelineJob.get('projects/348611359036/locations/us-central1/pipelineJobs/cx-pipeline-fake-data-20220829164351')\n"
     ]
    },
    {
     "name": "stderr",
     "output_type": "stream",
     "text": [
      "INFO:google.cloud.aiplatform.pipeline_jobs:pipeline_job = aiplatform.PipelineJob.get('projects/348611359036/locations/us-central1/pipelineJobs/cx-pipeline-fake-data-20220829164351')\n"
     ]
    },
    {
     "name": "stdout",
     "output_type": "stream",
     "text": [
      "View Pipeline Job:\n",
      "https://console.cloud.google.com/vertex-ai/locations/us-central1/pipelines/runs/cx-pipeline-fake-data-20220829164351?project=348611359036\n"
     ]
    },
    {
     "name": "stderr",
     "output_type": "stream",
     "text": [
      "INFO:google.cloud.aiplatform.pipeline_jobs:View Pipeline Job:\n",
      "https://console.cloud.google.com/vertex-ai/locations/us-central1/pipelines/runs/cx-pipeline-fake-data-20220829164351?project=348611359036\n"
     ]
    }
   ],
   "source": [
    "job = aip.PipelineJob(\n",
    "    display_name=\"cx-pipeline-fake-data\",\n",
    "    template_path='cx-pipeline_fake_data.json',\n",
    "    pipeline_root=pipeline_root_path,\n",
    "    parameter_values={\n",
    "        'project_id': project_id,\n",
    "        'n_minutes': 1,\n",
    "        'n_burst': 10,\n",
    "    }\n",
    "   \n",
    ")\n",
    "\n",
    "job.submit()"
   ]
  },
  {
   "cell_type": "code",
   "execution_count": null,
   "id": "773d8cad-4920-4ad7-8f08-2ee7277d4191",
   "metadata": {},
   "outputs": [],
   "source": []
  }
 ],
 "metadata": {
  "environment": {
   "kernel": "python3",
   "name": "common-cpu.m95",
   "type": "gcloud",
   "uri": "gcr.io/deeplearning-platform-release/base-cpu:m95"
  },
  "kernelspec": {
   "display_name": "Python 3",
   "language": "python",
   "name": "python3"
  },
  "language_info": {
   "codemirror_mode": {
    "name": "ipython",
    "version": 3
   },
   "file_extension": ".py",
   "mimetype": "text/x-python",
   "name": "python",
   "nbconvert_exporter": "python",
   "pygments_lexer": "ipython3",
   "version": "3.7.12"
  }
 },
 "nbformat": 4,
 "nbformat_minor": 5
}
